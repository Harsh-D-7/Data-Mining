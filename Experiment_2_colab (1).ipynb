{
  "cells": [
    {
      "cell_type": "markdown",
      "id": "a62ebb58",
      "metadata": {
        "id": "a62ebb58"
      },
      "source": [
        "# Experiment 2: Data Preprocessing\n",
        "\n",
        "  1. Noisy Data Handling (Equal-Width and Equal-Frequency Binning + Smoothing)\n",
        "  2. Normalization Techniques (Min-Max, Z-Score, Decimal Scaling)\n",
        "  3. Five-Number Summary"
      ]
    },
    {
      "cell_type": "markdown",
      "source": [
        "# Generate random Numbers"
      ],
      "metadata": {
        "id": "lzP3C_R7Yg6R"
      },
      "id": "lzP3C_R7Yg6R"
    },
    {
      "cell_type": "code",
      "source": [
        "import random\n",
        "import numpy as np # Import numpy\n",
        "data = random.sample(range(10, 100), 20)\n",
        "data = sorted(data)\n",
        "data = np.array(data)\n",
        "print(\"Random data sample: \", data)"
      ],
      "metadata": {
        "colab": {
          "base_uri": "https://localhost:8080/"
        },
        "id": "Kdwu2Wa-Yf7X",
        "outputId": "a62ff5fe-6d34-4aa6-d25a-d6e289a8d2e8"
      },
      "id": "Kdwu2Wa-Yf7X",
      "execution_count": 4,
      "outputs": [
        {
          "output_type": "stream",
          "name": "stdout",
          "text": [
            "Random data sample:  [11 12 16 21 35 49 58 65 79 81 82 83 88 89 90 91 92 94 97 99]\n"
          ]
        }
      ]
    },
    {
      "cell_type": "markdown",
      "source": [
        "# Numbers of bins user wants"
      ],
      "metadata": {
        "id": "Ki3YdBSFYwPg"
      },
      "id": "Ki3YdBSFYwPg"
    },
    {
      "cell_type": "code",
      "source": [
        "bins = int(input('Enter the number of bins: '))"
      ],
      "metadata": {
        "colab": {
          "base_uri": "https://localhost:8080/"
        },
        "id": "l542hZDnYvc0",
        "outputId": "a9b7288d-c8e8-41fe-e816-e3460863523e"
      },
      "id": "l542hZDnYvc0",
      "execution_count": 3,
      "outputs": [
        {
          "name": "stdout",
          "output_type": "stream",
          "text": [
            "Enter the number of bins: 5\n"
          ]
        }
      ]
    },
    {
      "cell_type": "code",
      "execution_count": 5,
      "id": "e41284c5",
      "metadata": {
        "colab": {
          "base_uri": "https://localhost:8080/"
        },
        "id": "e41284c5",
        "outputId": "c38234a7-4f44-41a4-c68e-fda3d4e2211e"
      },
      "outputs": [
        {
          "output_type": "stream",
          "name": "stdout",
          "text": [
            "Random data sample: [11, 12, 16, 21, 35, 49, 58, 65, 79, 81, 82, 83, 88, 89, 90, 91, 92, 94, 97, 99]\n",
            "\n",
            "Equal Width Bins: [[11, 12, 16, 21], [35], [49, 58], [65, 79, 81], [82, 83, 88, 89, 90, 91, 92, 94, 97, 99]]\n",
            "Smooth Mean (EW): [[15, 15, 15, 15], [35], [53.5, 53.5], [75, 75, 75], [90.5, 90.5, 90.5, 90.5, 90.5, 90.5, 90.5, 90.5, 90.5, 90.5]]\n",
            "Smooth Median (EW): [[14.0, 14.0, 14.0, 14.0], [35], [53.5, 53.5], [79, 79, 79], [90.5, 90.5, 90.5, 90.5, 90.5, 90.5, 90.5, 90.5, 90.5, 90.5]]\n",
            "Smooth Bounds (EW): [[11, 11, 11, 21], [35, 35], [49, 58], [65, 81, 81], [82, 82, 82, 82, 82, 99, 99, 99, 99, 99]]\n",
            "\n",
            "Equal Frequency Bins: [[np.int64(11), np.int64(12), np.int64(16), np.int64(21)], [np.int64(35), np.int64(49), np.int64(58), np.int64(65)], [np.int64(79), np.int64(81), np.int64(82), np.int64(83)], [np.int64(88), np.int64(89), np.int64(90), np.int64(91)], [np.int64(92), np.int64(94), np.int64(97), np.int64(99)]]\n",
            "Smooth Mean (EF): [[np.int64(15), np.int64(15), np.int64(15), np.int64(15)], [np.int64(51), np.int64(51), np.int64(51), np.int64(51)], [np.int64(81), np.int64(81), np.int64(81), np.int64(81)], [np.int64(89), np.int64(89), np.int64(89), np.int64(89)], [np.int64(95), np.int64(95), np.int64(95), np.int64(95)]]\n",
            "Smooth Median (EF): [[np.float64(14.0), np.float64(14.0), np.float64(14.0), np.float64(14.0)], [np.float64(53.5), np.float64(53.5), np.float64(53.5), np.float64(53.5)], [np.float64(81.5), np.float64(81.5), np.float64(81.5), np.float64(81.5)], [np.float64(89.5), np.float64(89.5), np.float64(89.5), np.float64(89.5)], [np.float64(95.5), np.float64(95.5), np.float64(95.5), np.float64(95.5)]]\n",
            "Smooth Bounds (EF): [[np.int64(11), np.int64(11), np.int64(11), np.int64(21)], [np.int64(35), np.int64(35), np.int64(65), np.int64(65)], [np.int64(79), np.int64(79), np.int64(83), np.int64(83)], [np.int64(88), np.int64(88), np.int64(91), np.int64(91)], [np.int64(92), np.int64(92), np.int64(99), np.int64(99)]]\n"
          ]
        }
      ],
      "source": [
        "import numpy as np\n",
        "from statistics import mean, median\n",
        "\n",
        "\n",
        "\n",
        "# Equal Width Binning\n",
        "min_val, max_val = data.min(), data.max()\n",
        "width = (max_val - min_val) / bins\n",
        "ew_bins = [[] for _ in range(bins)]\n",
        "for x in data:\n",
        "    idx = min(int((x - min_val) / width), bins - 1)\n",
        "    ew_bins[idx].append(int(x))\n",
        "\n",
        "# Equal Frequency Binning\n",
        "size = len(data) // bins\n",
        "ef_bins = [list(data[i*size:(i+1)*size]) for i in range(bins)]\n",
        "\n",
        "# Smoothing functions\n",
        "def smooth_mean(bins):\n",
        "    return [[round(mean(bin),2)]*len(bin) for bin in bins]\n",
        "\n",
        "def smooth_median(bins):\n",
        "    return [[round(median(bin),2)]*len(bin) for bin in bins]\n",
        "\n",
        "def smooth_bound(bins):\n",
        "    out = []\n",
        "    for b in bins:\n",
        "        mn, mx = min(b), max(b)\n",
        "        smooth = [mn] + [mn if (x-mn)<=(mx-x) else mx for x in b[1:-1]] + [b[-1]]\n",
        "        out.append(smooth)\n",
        "    return out\n",
        "\n",
        "# Display results\n",
        "print(\"Random data sample:\", data.tolist())\n",
        "print(\"\\nEqual Width Bins:\", ew_bins)\n",
        "print(\"Smooth Mean (EW):\", smooth_mean(ew_bins))\n",
        "print(\"Smooth Median (EW):\", smooth_median(ew_bins))\n",
        "print(\"Smooth Bounds (EW):\", smooth_bound(ew_bins))\n",
        "print(\"\\nEqual Frequency Bins:\", ef_bins)\n",
        "print(\"Smooth Mean (EF):\", smooth_mean(ef_bins))\n",
        "print(\"Smooth Median (EF):\", smooth_median(ef_bins))\n",
        "print(\"Smooth Bounds (EF):\", smooth_bound(ef_bins))"
      ]
    },
    {
      "cell_type": "code",
      "execution_count": 6,
      "id": "97dfa2ca",
      "metadata": {
        "colab": {
          "base_uri": "https://localhost:8080/"
        },
        "id": "97dfa2ca",
        "outputId": "6c7c8742-d641-419d-8f12-0ac439df40dc"
      },
      "outputs": [
        {
          "output_type": "stream",
          "name": "stdout",
          "text": [
            "Sample data: [11 12 16 21 35 49 58 65 79 81 82 83 88 89 90 91 92 94 97 99]\n",
            "\n",
            "Min-max norm: [np.float64(0.0), np.float64(0.01), np.float64(0.06), np.float64(0.11), np.float64(0.27), np.float64(0.43), np.float64(0.53), np.float64(0.61), np.float64(0.77), np.float64(0.8), np.float64(0.81), np.float64(0.82), np.float64(0.88), np.float64(0.89), np.float64(0.9), np.float64(0.91), np.float64(0.92), np.float64(0.94), np.float64(0.98), np.float64(1.0)]\n",
            "Z-score norm: [np.float64(-1.83), np.float64(-1.8), np.float64(-1.67), np.float64(-1.5), np.float64(-1.04), np.float64(-0.58), np.float64(-0.28), np.float64(-0.05), np.float64(0.41), np.float64(0.47), np.float64(0.51), np.float64(0.54), np.float64(0.7), np.float64(0.74), np.float64(0.77), np.float64(0.8), np.float64(0.84), np.float64(0.9), np.float64(1.0), np.float64(1.07)]\n",
            "Decimal scaling norm: [np.float64(0.11), np.float64(0.12), np.float64(0.16), np.float64(0.21), np.float64(0.35), np.float64(0.49), np.float64(0.58), np.float64(0.65), np.float64(0.79), np.float64(0.81), np.float64(0.82), np.float64(0.83), np.float64(0.88), np.float64(0.89), np.float64(0.9), np.float64(0.91), np.float64(0.92), np.float64(0.94), np.float64(0.97), np.float64(0.99)]\n"
          ]
        }
      ],
      "source": [
        "# 2.2 Normalization Techniques\n",
        "norm_data = np.array(data)\n",
        "min_d, max_d = min(norm_data), max(norm_data)\n",
        "\n",
        "# Min-max normalization\n",
        "minmax_norm = [round((x-min_d)/(max_d-min_d), 2) for x in norm_data]\n",
        "\n",
        "# Z-score normalization\n",
        "from statistics import mean, stdev\n",
        "import numpy as np\n",
        "mean_d, std_d = np.mean(norm_data), np.std(norm_data)\n",
        "z_norm = [round((x-mean_d)/std_d, 2) for x in norm_data]\n",
        "\n",
        "# Decimal scaling\n",
        "j = len(str(abs(max(norm_data))))\n",
        "dec_norm = [round(x/(10**j), 2) for x in norm_data]\n",
        "\n",
        "# Display results\n",
        "print(\"Sample data:\", norm_data)\n",
        "print(\"\\nMin-max norm:\", minmax_norm)\n",
        "print(\"Z-score norm:\", z_norm)\n",
        "print(\"Decimal scaling norm:\", dec_norm)"
      ]
    },
    {
      "cell_type": "code",
      "execution_count": 7,
      "id": "9bb21e66",
      "metadata": {
        "colab": {
          "base_uri": "https://localhost:8080/",
          "height": 520
        },
        "id": "9bb21e66",
        "outputId": "d985c256-ceb1-4e25-b058-194eeb620024"
      },
      "outputs": [
        {
          "output_type": "stream",
          "name": "stdout",
          "text": [
            "Random data sample:  [11 12 16 21 35 49 58 65 79 81 82 83 88 89 90 91 92 94 97 99]\n",
            "Minimum: 11\n",
            "Q1 (25%): 45.5\n",
            "Median (50%): 81.5\n",
            "Q3 (75%): 90.25\n",
            "Maximum: 99\n"
          ]
        },
        {
          "output_type": "display_data",
          "data": {
            "text/plain": [
              "<Figure size 640x480 with 1 Axes>"
            ],
            "image/png": "[encoded data removed]"
          },
          "metadata": {}
        }
      ],
      "source": [
        "# 2.3 Five-Number Summary\n",
        "import numpy as np\n",
        "import matplotlib.pyplot as plt\n",
        "import seaborn as sns\n",
        "\n",
        "print(\"Random data sample: \", data)\n",
        "q1, q2, q3 = np.percentile(data, [25, 50, 75])\n",
        "print(\"Minimum:\", data.min())\n",
        "print(\"Q1 (25%):\", q1)\n",
        "print(\"Median (50%):\", q2)\n",
        "print(\"Q3 (75%):\", q3)\n",
        "print(\"Maximum:\", data.max())\n",
        "sns.boxplot(data)\n",
        "plt.show()"
      ]
    }
  ],
  "metadata": {
    "colab": {
      "provenance": []
    },
    "language_info": {
      "name": "python"
    },
    "kernelspec": {
      "name": "python3",
      "display_name": "Python 3"
    }
  },
  "nbformat": 4,
  "nbformat_minor": 5
}