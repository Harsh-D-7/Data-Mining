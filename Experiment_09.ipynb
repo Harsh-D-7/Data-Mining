{
  "nbformat": 4,
  "nbformat_minor": 0,
  "metadata": {
    "colab": {
      "provenance": [],
      "authorship_tag": "ABX9TyOeixrs6VlnDkkhZ13JEfE7",
      "include_colab_link": true
    },
    "kernelspec": {
      "name": "python3",
      "display_name": "Python 3"
    },
    "language_info": {
      "name": "python"
    }
  },
  "cells": [
    {
      "cell_type": "markdown",
      "metadata": {
        "id": "view-in-github",
        "colab_type": "text"
      },
      "source": [
        "<a href=\"https://colab.research.google.com/github/Harsh-D-7/Data-Mining/blob/main/Experiment_09.ipynb\" target=\"_parent\"><img src=\"https://colab.research.google.com/assets/colab-badge.svg\" alt=\"Open In Colab\"/></a>"
      ]
    },
    {
      "cell_type": "markdown",
      "source": [
        "1.\tImport Required Libraries"
      ],
      "metadata": {
        "id": "Ejecqoq9_yCh"
      }
    },
    {
      "cell_type": "code",
      "execution_count": 1,
      "metadata": {
        "id": "A1yhpePD_mBm"
      },
      "outputs": [],
      "source": [
        "import pandas as pd\n",
        "import numpy as np\n",
        "import matplotlib.pyplot as plt\n",
        "import seaborn as sns\n",
        "from sklearn.ensemble import IsolationForest\n",
        "from sklearn.preprocessing import StandardScaler\n",
        "from sklearn.metrics import classification_report, confusion_matrix\n"
      ]
    },
    {
      "cell_type": "markdown",
      "source": [
        "2.\tLoad Dataset"
      ],
      "metadata": {
        "id": "8EzFofNH_1_V"
      }
    },
    {
      "cell_type": "code",
      "source": [
        "# Load the dataset from a publicly available URL\n",
        "data = pd.read_csv('https://storage.googleapis.com/download.tensorflow.org/data/creditcard.csv')\n"
      ],
      "metadata": {
        "id": "BpVKNczo_6wh"
      },
      "execution_count": 2,
      "outputs": []
    },
    {
      "cell_type": "markdown",
      "source": [
        "3.\tPreprocessing"
      ],
      "metadata": {
        "id": "UMNOMTwY_9Vc"
      }
    },
    {
      "cell_type": "code",
      "source": [
        "# Standardize 'Amount'\n",
        "scaler = StandardScaler()\n",
        "data['Amount'] = scaler.fit_transform(data['Amount'].values.reshape(-1, 1))\n",
        "\n",
        "# Drop 'Time' column\n",
        "data = data.drop(['Time'], axis=1)\n"
      ],
      "metadata": {
        "id": "_BVlZ6n9__FF"
      },
      "execution_count": 3,
      "outputs": []
    },
    {
      "cell_type": "markdown",
      "source": [
        "4.\tFeature and Target Separation"
      ],
      "metadata": {
        "id": "D3Q3r-hGABgl"
      }
    },
    {
      "cell_type": "code",
      "source": [
        "X = data.drop('Class', axis=1)\n",
        "y = data['Class']\n"
      ],
      "metadata": {
        "id": "AtlVcX5IAD6v"
      },
      "execution_count": 4,
      "outputs": []
    },
    {
      "cell_type": "markdown",
      "source": [
        "5.\tApply Isolation Forest"
      ],
      "metadata": {
        "id": "5g9AjTHxAF5g"
      }
    },
    {
      "cell_type": "code",
      "source": [
        "isoforest = IsolationForest(contamination=0.001, random_state=42)\n",
        "y_pred = isoforest.fit_predict(X)\n",
        "\n",
        "# Convert predictions: -1 (outlier/fraud), 1 (normal) → 1 (fraud), 0 (normal)\n",
        "y_pred = [1 if val == -1 else 0 for val in y_pred]\n"
      ],
      "metadata": {
        "id": "LPmgq351ALUP"
      },
      "execution_count": 5,
      "outputs": []
    },
    {
      "cell_type": "markdown",
      "source": [
        "6.\tEvaluate Model"
      ],
      "metadata": {
        "id": "KP3AyNx9ANs1"
      }
    },
    {
      "cell_type": "code",
      "source": [
        "conf_matrix = confusion_matrix(y, y_pred)\n",
        "print(\"Confusion Matrix:\\n\", conf_matrix)\n",
        "print(\"\\nClassification Report:\\n\", classification_report(y, y_pred, target_names=[\"Legit\", \"Fraud\"]))\n"
      ],
      "metadata": {
        "colab": {
          "base_uri": "https://localhost:8080/"
        },
        "id": "dgUdg6fSAPf5",
        "outputId": "37049c4d-6e78-4739-cdc1-858db6fdbea0"
      },
      "execution_count": 6,
      "outputs": [
        {
          "output_type": "stream",
          "name": "stdout",
          "text": [
            "Confusion Matrix:\n",
            " [[284135    180]\n",
            " [   387    105]]\n",
            "\n",
            "Classification Report:\n",
            "               precision    recall  f1-score   support\n",
            "\n",
            "       Legit       1.00      1.00      1.00    284315\n",
            "       Fraud       0.37      0.21      0.27       492\n",
            "\n",
            "    accuracy                           1.00    284807\n",
            "   macro avg       0.68      0.61      0.63    284807\n",
            "weighted avg       1.00      1.00      1.00    284807\n",
            "\n"
          ]
        }
      ]
    },
    {
      "cell_type": "markdown",
      "source": [
        "7.\tVisualize Confusion Matrix"
      ],
      "metadata": {
        "id": "mgV1eNXLATMR"
      }
    },
    {
      "cell_type": "code",
      "source": [
        "sns.heatmap(conf_matrix, annot=True, fmt=\"d\", cmap=\"Blues\")\n",
        "plt.title(\"Confusion Matrix\")\n",
        "plt.xlabel(\"Predicted\")\n",
        "plt.ylabel(\"Actual\")\n",
        "plt.show()\n"
      ],
      "metadata": {
        "colab": {
          "base_uri": "https://localhost:8080/",
          "height": 472
        },
        "id": "N9k8hjAdAUAY",
        "outputId": "e101202d-e213-4a34-cc35-3b178550a0b8"
      },
      "execution_count": 7,
      "outputs": [
        {
          "output_type": "display_data",
          "data": {
            "text/plain": [
              "<Figure size 640x480 with 2 Axes>"
            ],
            "image/png": "[encoded data removed]"
          },
          "metadata": {}
        }
      ]
    }
  ]
}