{
  "nbformat": 4,
  "nbformat_minor": 0,
  "metadata": {
    "colab": {
      "provenance": [],
      "authorship_tag": "ABX9TyNcJFkU8sqUPzZiz8s9viAv",
      "include_colab_link": true
    },
    "kernelspec": {
      "name": "python3",
      "display_name": "Python 3"
    },
    "language_info": {
      "name": "python"
    }
  },
  "cells": [
    {
      "cell_type": "markdown",
      "metadata": {
        "id": "view-in-github",
        "colab_type": "text"
      },
      "source": [
        "<a href=\"https://colab.research.google.com/github/Harsh-D-7/Data-Mining/blob/main/Experiment_4.ipynb\" target=\"_parent\"><img src=\"https://colab.research.google.com/assets/colab-badge.svg\" alt=\"Open In Colab\"/></a>"
      ]
    },
    {
      "cell_type": "code",
      "execution_count": 1,
      "metadata": {
        "colab": {
          "base_uri": "https://localhost:8080/"
        },
        "id": "h_KiGaII9piC",
        "outputId": "8e6acdad-7e53-4825-f452-ca87807371f6"
      },
      "outputs": [
        {
          "output_type": "stream",
          "name": "stdout",
          "text": [
            "Frequent Itemsets: [frozenset({'Bread'}), frozenset({'Milk'}), frozenset({'Diapers'}), frozenset({'Beer'}), frozenset({'Cola'}), frozenset({'Bread', 'Milk'}), frozenset({'Beer', 'Diapers'}), frozenset({'Bread', 'Diapers'}), frozenset({'Bread', 'Beer'}), frozenset({'Milk', 'Beer'}), frozenset({'Cola', 'Milk'}), frozenset({'Cola', 'Diapers'}), frozenset({'Milk', 'Diapers'}), frozenset({'Bread', 'Beer', 'Diapers'}), frozenset({'Milk', 'Beer', 'Diapers'}), frozenset({'Cola', 'Milk', 'Diapers'}), frozenset({'Bread', 'Milk', 'Diapers'})]\n"
          ]
        }
      ],
      "source": [
        "def load_dataset():\n",
        "    \"\"\"Load sample dataset.\"\"\"\n",
        "    return [['Bread', 'Milk'],\n",
        "            ['Bread', 'Diapers', 'Beer', 'Eggs'],\n",
        "            ['Milk', 'Diapers', 'Beer', 'Cola'],\n",
        "            ['Bread', 'Milk', 'Diapers', 'Beer'],\n",
        "            ['Bread', 'Milk', 'Diapers', 'Cola']]\n",
        "\n",
        "def create_itemsets(dataset):\n",
        "    \"\"\"Create a set of unique items in the dataset.\"\"\"\n",
        "    itemsets = set()\n",
        "    for transaction in dataset:\n",
        "        for item in transaction:\n",
        "            itemsets.add(frozenset([item]))\n",
        "    return itemsets\n",
        "\n",
        "def create_frequent_itemsets(dataset, itemsets, min_support):\n",
        "    \"\"\"Create frequent itemsets that meet the minimum support threshold.\"\"\"\n",
        "    item_counts = {}\n",
        "    for transaction in dataset:\n",
        "        for itemset in itemsets:\n",
        "            if itemset.issubset(transaction):\n",
        "                item_counts[itemset] = item_counts.get(itemset, 0) + 1\n",
        "    num_transactions = float(len(dataset))\n",
        "    frequent_itemsets = []\n",
        "    for itemset in item_counts:\n",
        "        support = item_counts[itemset] / num_transactions\n",
        "        if support >= min_support:\n",
        "            frequent_itemsets.append(itemset)\n",
        "    return frequent_itemsets\n",
        "\n",
        "def create_candidate_itemsets(itemsets, length):\n",
        "    \"\"\"Create candidate itemsets of a given length.\"\"\"\n",
        "    candidate_itemsets = set()\n",
        "    for itemset1 in itemsets:\n",
        "        for itemset2 in itemsets:\n",
        "            union = itemset1.union(itemset2)\n",
        "            if len(union) == length:\n",
        "                candidate_itemsets.add(union)\n",
        "    return candidate_itemsets\n",
        "\n",
        "def prune_itemsets(itemsets, candidate_itemsets):\n",
        "    \"\"\"Prune candidate itemsets that contain subsets not in itemsets.\"\"\"\n",
        "    pruned_itemsets = set()\n",
        "    for itemset in candidate_itemsets:\n",
        "        is_valid = True\n",
        "        for item in itemset:\n",
        "            subset = itemset.difference(frozenset([item]))\n",
        "            if subset not in itemsets:\n",
        "                is_valid = False\n",
        "                break\n",
        "        if is_valid:\n",
        "            pruned_itemsets.add(itemset)\n",
        "    return pruned_itemsets\n",
        "\n",
        "def apriori(dataset, min_support):\n",
        "    \"\"\"Find frequent itemsets in the dataset using the Apriori algorithm.\"\"\"\n",
        "    itemsets = create_itemsets(dataset)\n",
        "    frequent_itemsets = create_frequent_itemsets(dataset, itemsets, min_support)\n",
        "    all_frequent_itemsets = list(frequent_itemsets)\n",
        "    k = 2\n",
        "    while frequent_itemsets:\n",
        "        candidate_itemsets = create_candidate_itemsets(frequent_itemsets, k)\n",
        "        candidate_itemsets = prune_itemsets(frequent_itemsets, candidate_itemsets)\n",
        "        frequent_itemsets = create_frequent_itemsets(dataset, candidate_itemsets, min_support)\n",
        "        all_frequent_itemsets.extend(frequent_itemsets)\n",
        "        k += 1\n",
        "    return all_frequent_itemsets\n",
        "\n",
        "# Run the Apriori algorithm\n",
        "dataset = load_dataset()\n",
        "min_support = 0.4\n",
        "frequent_itemsets = apriori(dataset, min_support)\n",
        "print(\"Frequent Itemsets:\", frequent_itemsets)\n"
      ]
    }
  ]
}